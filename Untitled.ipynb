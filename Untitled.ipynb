{
 "cells": [
  {
   "cell_type": "markdown",
   "id": "bdd53818",
   "metadata": {},
   "source": [
    "# Python"
   ]
  },
  {
   "cell_type": "code",
   "execution_count": null,
   "id": "d1ad2fe9",
   "metadata": {},
   "outputs": [],
   "source": []
  },
  {
   "cell_type": "code",
   "execution_count": 1,
   "id": "d710593f",
   "metadata": {},
   "outputs": [],
   "source": [
    "a=10"
   ]
  },
  {
   "cell_type": "code",
   "execution_count": 11,
   "id": "88f8d709",
   "metadata": {},
   "outputs": [
    {
     "name": "stdout",
     "output_type": "stream",
     "text": [
      "str1\n",
      "str2\n",
      "str3\n"
     ]
    }
   ],
   "source": [
    "multiline = '''str1\n",
    "str2\n",
    "str3'''\n",
    "print(multiline)"
   ]
  },
  {
   "cell_type": "code",
   "execution_count": 12,
   "id": "3b829ff4",
   "metadata": {},
   "outputs": [
    {
     "name": "stdout",
     "output_type": "stream",
     "text": [
      "False\n"
     ]
    }
   ],
   "source": [
    "a = 20<10 and 2>-1\n",
    "print(a)"
   ]
  },
  {
   "cell_type": "code",
   "execution_count": 1,
   "id": "1117f9b1",
   "metadata": {},
   "outputs": [
    {
     "data": {
      "text/plain": [
       "80"
      ]
     },
     "execution_count": 1,
     "metadata": {},
     "output_type": "execute_result"
    }
   ],
   "source": [
    "10<<3"
   ]
  },
  {
   "cell_type": "code",
   "execution_count": 3,
   "id": "4bd50f2d",
   "metadata": {},
   "outputs": [
    {
     "name": "stdout",
     "output_type": "stream",
     "text": [
      "<class 'str'>\n",
      "<class 'int'>\n"
     ]
    }
   ],
   "source": [
    "str1 = \"lavina\"\n",
    "str2 = 1234\n",
    "print(type(str1))\n",
    "print(type(str2))"
   ]
  },
  {
   "cell_type": "code",
   "execution_count": 4,
   "id": "3ff5d8a2",
   "metadata": {},
   "outputs": [
    {
     "data": {
      "text/plain": [
       "['word1', 'word2', 'word3']"
      ]
     },
     "execution_count": 4,
     "metadata": {},
     "output_type": "execute_result"
    }
   ],
   "source": [
    "str4 = \"word1,word2,word3\"\n",
    "str4.split(\",\")"
   ]
  },
  {
   "cell_type": "code",
   "execution_count": 6,
   "id": "e3d5b07c",
   "metadata": {},
   "outputs": [
    {
     "data": {
      "text/plain": [
       "1"
      ]
     },
     "execution_count": 6,
     "metadata": {},
     "output_type": "execute_result"
    }
   ],
   "source": [
    "str1=\"lavina\"\n",
    "str1.count(\"i\")"
   ]
  },
  {
   "cell_type": "code",
   "execution_count": 2,
   "id": "0d49d0c4",
   "metadata": {},
   "outputs": [
    {
     "name": "stdout",
     "output_type": "stream",
     "text": [
      "int\n"
     ]
    }
   ],
   "source": [
    "str5 = 'intelljpaat'\n",
    "print(str5[0:3])"
   ]
  },
  {
   "cell_type": "code",
   "execution_count": 4,
   "id": "055c9a00",
   "metadata": {},
   "outputs": [
    {
     "data": {
      "text/plain": [
       "'inyelljpaat'"
      ]
     },
     "execution_count": 4,
     "metadata": {},
     "output_type": "execute_result"
    }
   ],
   "source": [
    "str5.replace('tell','yell')"
   ]
  },
  {
   "cell_type": "code",
   "execution_count": 5,
   "id": "c07ca65b",
   "metadata": {},
   "outputs": [
    {
     "data": {
      "text/plain": [
       "'INTELLJPAAT'"
      ]
     },
     "execution_count": 5,
     "metadata": {},
     "output_type": "execute_result"
    }
   ],
   "source": [
    "str5.upper()"
   ]
  },
  {
   "cell_type": "code",
   "execution_count": 6,
   "id": "9d167544",
   "metadata": {},
   "outputs": [
    {
     "data": {
      "text/plain": [
       "'t'"
      ]
     },
     "execution_count": 6,
     "metadata": {},
     "output_type": "execute_result"
    }
   ],
   "source": [
    "max(str5)"
   ]
  },
  {
   "cell_type": "code",
   "execution_count": 12,
   "id": "bc891914",
   "metadata": {},
   "outputs": [
    {
     "data": {
      "text/plain": [
       "'a'"
      ]
     },
     "execution_count": 12,
     "metadata": {},
     "output_type": "execute_result"
    }
   ],
   "source": [
    "min(str5)"
   ]
  },
  {
   "cell_type": "markdown",
   "id": "b2bec44b",
   "metadata": {},
   "source": [
    "# Datatype - Number/string/tuple- Tuple"
   ]
  },
  {
   "cell_type": "code",
   "execution_count": 9,
   "id": "a33ab829",
   "metadata": {},
   "outputs": [
    {
     "name": "stdout",
     "output_type": "stream",
     "text": [
      "('a', 'b', 'c', 'd', 'e', 'f', 'g')\n"
     ]
    }
   ],
   "source": [
    "#contaction\n",
    "mytuple = ('a','b','c','d')\n",
    "mytuple1 = ('e','f','g')\n",
    "mytuple+=mytuple1\n",
    "print(mytuple)"
   ]
  },
  {
   "cell_type": "code",
   "execution_count": 10,
   "id": "75772b99",
   "metadata": {},
   "outputs": [
    {
     "data": {
      "text/plain": [
       "('a', 'b', 'c', 'd', 'e', 'f', 'g', 'a', 'b', 'c', 'd', 'e', 'f', 'g')"
      ]
     },
     "execution_count": 10,
     "metadata": {},
     "output_type": "execute_result"
    }
   ],
   "source": [
    "#repetition\n",
    "mytuple*2"
   ]
  },
  {
   "cell_type": "code",
   "execution_count": 11,
   "id": "7fa15eb0",
   "metadata": {},
   "outputs": [
    {
     "data": {
      "text/plain": [
       "'e'"
      ]
     },
     "execution_count": 11,
     "metadata": {},
     "output_type": "execute_result"
    }
   ],
   "source": [
    "#indexing\n",
    "mytuple[4]"
   ]
  },
  {
   "cell_type": "code",
   "execution_count": 14,
   "id": "362c494c",
   "metadata": {},
   "outputs": [
    {
     "data": {
      "text/plain": [
       "('a', 'b', 'c', 'd')"
      ]
     },
     "execution_count": 14,
     "metadata": {},
     "output_type": "execute_result"
    }
   ],
   "source": [
    "#silicing\n",
    "mytuple[0:4]"
   ]
  },
  {
   "cell_type": "markdown",
   "id": "c73d8c7a",
   "metadata": {},
   "source": [
    "# Datatype -list "
   ]
  },
  {
   "cell_type": "code",
   "execution_count": 15,
   "id": "3a0e159a",
   "metadata": {},
   "outputs": [],
   "source": [
    "mylist = ['1',123,3.14,'asds']\n",
    "mylist2 = ['acdc',20]"
   ]
  },
  {
   "cell_type": "code",
   "execution_count": 17,
   "id": "d8ffaa33",
   "metadata": {},
   "outputs": [
    {
     "name": "stdout",
     "output_type": "stream",
     "text": [
      "['1', 123, 3.14, 'asds', 'acdc', 20]\n"
     ]
    }
   ],
   "source": [
    "#concation\n",
    "mylist+=mylist2\n",
    "print(mylist)\n",
    "#we can even perform mylist.remove(20) opertaion but it will give error"
   ]
  },
  {
   "cell_type": "code",
   "execution_count": 18,
   "id": "f5d05882",
   "metadata": {},
   "outputs": [
    {
     "data": {
      "text/plain": [
       "['1', 123, 3.14, 'asds', 'acdc', 20, '1', 123, 3.14, 'asds', 'acdc', 20]"
      ]
     },
     "execution_count": 18,
     "metadata": {},
     "output_type": "execute_result"
    }
   ],
   "source": [
    "#reptiton\n",
    "mylist*2"
   ]
  },
  {
   "cell_type": "code",
   "execution_count": 19,
   "id": "281b0ea7",
   "metadata": {},
   "outputs": [
    {
     "data": {
      "text/plain": [
       "['1', 123, 3.14, 'asds', 'acdc']"
      ]
     },
     "execution_count": 19,
     "metadata": {},
     "output_type": "execute_result"
    }
   ],
   "source": [
    "#silcing\n",
    "mylist[0:5]"
   ]
  },
  {
   "cell_type": "code",
   "execution_count": 20,
   "id": "03384195",
   "metadata": {},
   "outputs": [
    {
     "name": "stdout",
     "output_type": "stream",
     "text": [
      "['1', 123, 3.14, 'asds', 'acdc', 20, '10']\n"
     ]
    }
   ],
   "source": [
    "#append\n",
    "mylist.append(\"10\")\n",
    "print(mylist)"
   ]
  },
  {
   "cell_type": "code",
   "execution_count": 21,
   "id": "56ed3964",
   "metadata": {},
   "outputs": [
    {
     "name": "stdout",
     "output_type": "stream",
     "text": [
      "['1', 123, 3.14, 'asds', 'acdc', 20, '10', ['c', 2]]\n"
     ]
    }
   ],
   "source": [
    "mylist3 = ['c',2]\n",
    "mylist.append(mylist3)\n",
    "print(mylist)"
   ]
  },
  {
   "cell_type": "code",
   "execution_count": 23,
   "id": "91569676",
   "metadata": {},
   "outputs": [
    {
     "name": "stdout",
     "output_type": "stream",
     "text": [
      "['1', 123, 3.14, 50, 50, 'asds', 'acdc', 20, '10', ['c', 2]]\n"
     ]
    }
   ],
   "source": [
    "#insert\n",
    "mylist.insert(3,50)\n",
    "print(mylist)"
   ]
  },
  {
   "cell_type": "markdown",
   "id": "8798bc65",
   "metadata": {},
   "source": [
    "# Datatype -  Dictionary"
   ]
  },
  {
   "cell_type": "code",
   "execution_count": 24,
   "id": "abf5de0e",
   "metadata": {},
   "outputs": [],
   "source": [
    "#empty dictionary\n",
    "mydict = {}"
   ]
  },
  {
   "cell_type": "code",
   "execution_count": 26,
   "id": "d80c2331",
   "metadata": {},
   "outputs": [],
   "source": [
    "#insert key\n",
    "mydict = {1:'apple',2:'ball'}"
   ]
  },
  {
   "cell_type": "code",
   "execution_count": 27,
   "id": "ecde78da",
   "metadata": {},
   "outputs": [],
   "source": [
    "#mixed keys\n",
    "mydict = {'name':'john',1:[1,2,3]}"
   ]
  },
  {
   "cell_type": "code",
   "execution_count": 28,
   "id": "83e62e4e",
   "metadata": {},
   "outputs": [],
   "source": [
    "#Paring\n",
    "mydict = dict([(1,'apple'),(2,'scsc')])"
   ]
  },
  {
   "cell_type": "code",
   "execution_count": 30,
   "id": "7e19167c",
   "metadata": {},
   "outputs": [
    {
     "data": {
      "text/plain": [
       "'csdc'"
      ]
     },
     "execution_count": 30,
     "metadata": {},
     "output_type": "execute_result"
    }
   ],
   "source": [
    "#accesing dict\n",
    "mydict1 = {1:'csdc',2:'fdvd'}\n",
    "mydict1[1]"
   ]
  },
  {
   "cell_type": "code",
   "execution_count": 32,
   "id": "0abd4489",
   "metadata": {},
   "outputs": [
    {
     "data": {
      "text/plain": [
       "2"
      ]
     },
     "execution_count": 32,
     "metadata": {},
     "output_type": "execute_result"
    }
   ],
   "source": [
    "#lenght  :len()\n",
    "len(mydict1)"
   ]
  },
  {
   "cell_type": "code",
   "execution_count": null,
   "id": "26d65045",
   "metadata": {},
   "outputs": [],
   "source": [
    "#key #values\n",
    "mydict2 = {2:'dcsdc',3:'wcd'}\n",
    "mydict2.key()\n",
    "mydict2.values()"
   ]
  },
  {
   "cell_type": "markdown",
   "id": "909348ce",
   "metadata": {},
   "source": [
    "#  Datatype - Set"
   ]
  },
  {
   "cell_type": "code",
   "execution_count": 38,
   "id": "8898e557",
   "metadata": {},
   "outputs": [
    {
     "name": "stdout",
     "output_type": "stream",
     "text": [
      "{1, 2, 3, 4, 5}\n"
     ]
    }
   ],
   "source": [
    "#Creating set\n",
    "mySet = {1,2,3,4,5}\n",
    "print (mySet)"
   ]
  },
  {
   "cell_type": "code",
   "execution_count": 39,
   "id": "34fa04c7",
   "metadata": {},
   "outputs": [
    {
     "data": {
      "text/plain": [
       "{1, 2, 4, 5, 'c', 'd', 'h', 's'}"
      ]
     },
     "execution_count": 39,
     "metadata": {},
     "output_type": "execute_result"
    }
   ],
   "source": [
    "#Concation\n",
    "myst = {1,2,'c','d'}\n",
    "myst1  = {'s','h',4,5}\n",
    "myst | myst1"
   ]
  },
  {
   "cell_type": "code",
   "execution_count": 41,
   "id": "c7e5226e",
   "metadata": {},
   "outputs": [
    {
     "data": {
      "text/plain": [
       "{2}"
      ]
     },
     "execution_count": 41,
     "metadata": {},
     "output_type": "execute_result"
    }
   ],
   "source": [
    "#intresection\n",
    "myst = {1,2,'c','d'}\n",
    "myst1  = {'s','h',2,5}\n",
    "myst & myst1"
   ]
  },
  {
   "cell_type": "code",
   "execution_count": 42,
   "id": "cb3a6297",
   "metadata": {},
   "outputs": [
    {
     "data": {
      "text/plain": [
       "{1, 'c', 'd'}"
      ]
     },
     "execution_count": 42,
     "metadata": {},
     "output_type": "execute_result"
    }
   ],
   "source": [
    "#Difference\n",
    "myst = {1,2,'c','d'}\n",
    "myst1  = {'s','h',2,5}\n",
    "myst - myst1"
   ]
  },
  {
   "cell_type": "markdown",
   "id": "42394413",
   "metadata": {},
   "source": [
    "#  Flow Control"
   ]
  },
  {
   "cell_type": "code",
   "execution_count": 1,
   "id": "0708ddc9",
   "metadata": {},
   "outputs": [],
   "source": [
    "#if-else"
   ]
  },
  {
   "cell_type": "code",
   "execution_count": 2,
   "id": "a6539d57",
   "metadata": {},
   "outputs": [],
   "source": [
    "#nested if-else\n",
    "# if():\n",
    "#     statment\n",
    "#     elif():\n",
    "#         statment\n",
    "#         else:\n",
    "#             statment"
   ]
  },
  {
   "cell_type": "code",
   "execution_count": 5,
   "id": "92db9ad0",
   "metadata": {},
   "outputs": [
    {
     "name": "stdout",
     "output_type": "stream",
     "text": [
      "apple\n",
      "organe\n",
      "kiwi\n"
     ]
    }
   ],
   "source": [
    "#for\n",
    "fruits = ['apple','organe','kiwi']\n",
    "for x in fruits:\n",
    "     print(x)"
   ]
  },
  {
   "cell_type": "code",
   "execution_count": 7,
   "id": "0d7ba530",
   "metadata": {},
   "outputs": [
    {
     "data": {
      "text/plain": [
       "False"
      ]
     },
     "execution_count": 7,
     "metadata": {},
     "output_type": "execute_result"
    }
   ],
   "source": [
    "#for - variable\n",
    "x in fruits[1]"
   ]
  },
  {
   "cell_type": "code",
   "execution_count": 8,
   "id": "8d643725",
   "metadata": {},
   "outputs": [
    {
     "name": "stdout",
     "output_type": "stream",
     "text": [
      "1\n",
      "3\n"
     ]
    }
   ],
   "source": [
    "#while\n",
    "a =1 \n",
    "while a<5:\n",
    "    print(a)\n",
    "    a+=2;"
   ]
  },
  {
   "cell_type": "code",
   "execution_count": 20,
   "id": "4c1f3460",
   "metadata": {},
   "outputs": [
    {
     "name": "stdout",
     "output_type": "stream",
     "text": [
      "1 odd\n",
      "3 odd\n",
      "5 odd\n",
      "7 odd\n",
      "9 odd\n"
     ]
    }
   ],
   "source": [
    "#while\n",
    "a=1\n",
    "while a<10:\n",
    "    if(a%2)==2:\n",
    "        print(a,\"even\")\n",
    "    else:\n",
    "        print(a,\"odd\")\n",
    "        a+=2;"
   ]
  },
  {
   "cell_type": "code",
   "execution_count": 1,
   "id": "0cdec019",
   "metadata": {},
   "outputs": [
    {
     "name": "stdout",
     "output_type": "stream",
     "text": [
      "9\n",
      "8\n",
      "7\n",
      "6\n"
     ]
    }
   ],
   "source": [
    "#break\n",
    "a =10\n",
    "while a>0:\n",
    "    a-=1\n",
    "    if(a != 5):\n",
    "        print(a)\n",
    "    else: \n",
    "        break"
   ]
  },
  {
   "cell_type": "code",
   "execution_count": 3,
   "id": "c5e98380",
   "metadata": {},
   "outputs": [
    {
     "name": "stdout",
     "output_type": "stream",
     "text": [
      "9\n",
      "8\n",
      "7\n",
      "6\n",
      "4\n",
      "3\n",
      "2\n",
      "1\n",
      "0\n"
     ]
    }
   ],
   "source": [
    "#contiune\n",
    "a =10\n",
    "while a>0:\n",
    "    a-=1\n",
    "    if(a != 5):\n",
    "        print(a)\n",
    "    else: \n",
    "        continue"
   ]
  },
  {
   "cell_type": "markdown",
   "id": "d2e864f1",
   "metadata": {},
   "source": [
    "# Function - 1.) User-Defined Function   2.) Built-in Function"
   ]
  },
  {
   "cell_type": "code",
   "execution_count": 8,
   "id": "9d75f466",
   "metadata": {},
   "outputs": [],
   "source": [
    "#User-Defined function\n",
    "def add(a,b):\n",
    "    return a+b"
   ]
  },
  {
   "cell_type": "code",
   "execution_count": 13,
   "id": "6c610fb5",
   "metadata": {},
   "outputs": [],
   "source": [
    "#Built-Function\n",
    "# abs(),all(),any(),ascii(),bin(),bool()"
   ]
  },
  {
   "cell_type": "markdown",
   "id": "14030961",
   "metadata": {},
   "source": [
    "#  Lambda Function"
   ]
  },
  {
   "cell_type": "code",
   "execution_count": 21,
   "id": "491a7ece",
   "metadata": {},
   "outputs": [],
   "source": [
    "#lambda argument :  expression"
   ]
  },
  {
   "cell_type": "code",
   "execution_count": 14,
   "id": "fbaa6940",
   "metadata": {},
   "outputs": [
    {
     "name": "stdout",
     "output_type": "stream",
     "text": [
      "15\n"
     ]
    }
   ],
   "source": [
    "x = lambda a:a+10\n",
    "print(x(5))"
   ]
  },
  {
   "cell_type": "code",
   "execution_count": 16,
   "id": "7e5ee3dc",
   "metadata": {},
   "outputs": [],
   "source": [
    "#comparing both the function\n",
    "def z (x,y):\n",
    "    return x*y"
   ]
  },
  {
   "cell_type": "code",
   "execution_count": 17,
   "id": "f123f023",
   "metadata": {},
   "outputs": [
    {
     "name": "stdout",
     "output_type": "stream",
     "text": [
      "12\n"
     ]
    }
   ],
   "source": [
    "z = lambda x,y : x*y\n",
    "print(z(3,4))"
   ]
  },
  {
   "cell_type": "code",
   "execution_count": 18,
   "id": "0b46dbf5",
   "metadata": {},
   "outputs": [
    {
     "name": "stdout",
     "output_type": "stream",
     "text": [
      "14\n"
     ]
    }
   ],
   "source": [
    "#power of lambbda\n",
    "def myfunt(n):\n",
    "    return lambda a:a+n\n",
    "double = myfunt(2)\n",
    "print(double(12))"
   ]
  },
  {
   "cell_type": "code",
   "execution_count": 19,
   "id": "838f1719",
   "metadata": {},
   "outputs": [
    {
     "name": "stdout",
     "output_type": "stream",
     "text": [
      "19\n"
     ]
    }
   ],
   "source": [
    "#Q. lambda function to print sum of a,b,and c\n",
    "x= lambda a,b,c : a+b+c\n",
    "print(x(12,3,4))"
   ]
  },
  {
   "cell_type": "markdown",
   "id": "c266acd7",
   "metadata": {},
   "source": [
    "# Class/Object"
   ]
  },
  {
   "cell_type": "code",
   "execution_count": 20,
   "id": "51027b5a",
   "metadata": {},
   "outputs": [],
   "source": [
    "#A class is blueprint of object\n",
    "class myclass:\n",
    "    x=5;"
   ]
  },
  {
   "cell_type": "code",
   "execution_count": 21,
   "id": "8bf2fd7e",
   "metadata": {},
   "outputs": [
    {
     "name": "stdout",
     "output_type": "stream",
     "text": [
      "5\n"
     ]
    }
   ],
   "source": [
    "obj = myclass()\n",
    "print(obj.x)"
   ]
  },
  {
   "cell_type": "markdown",
   "id": "19049e67",
   "metadata": {},
   "source": [
    "# File Handling - Open , Read,Write/Create,Delete"
   ]
  },
  {
   "cell_type": "code",
   "execution_count": 22,
   "id": "9cfcf3ef",
   "metadata": {},
   "outputs": [],
   "source": [
    "#Open- syntax f = open(\"path of the file\",mode)\n",
    "#mode - 'r'read,'a'append,'w'write,'x create'"
   ]
  },
  {
   "cell_type": "code",
   "execution_count": 52,
   "id": "bc746e20",
   "metadata": {},
   "outputs": [],
   "source": [
    "#Read\n",
    "# f = open(\"C:\\Users\\hp\\Downloads\\text.txt\" , \"r\")\n",
    "# print(f.read())\n",
    "# print(f.read(5)) //print first characters\n",
    "# print(f.readline()) print first line\n",
    "# f = open(\"C:\\Users\\hp\\Downloads\\text.txt\",\"r\")//print line by line\n",
    "# for x in f :\n",
    "#     print(x)"
   ]
  },
  {
   "cell_type": "code",
   "execution_count": 51,
   "id": "2a5c1a1f",
   "metadata": {},
   "outputs": [],
   "source": [
    "#Write/Create - 'a'append , 'w'write\n",
    "# f = open(\"Desktop\\text.txt\",\"a\")\n",
    "# # f.write('hi')"
   ]
  },
  {
   "cell_type": "code",
   "execution_count": 53,
   "id": "75c08ac6",
   "metadata": {},
   "outputs": [],
   "source": [
    "#create - 'x'new file , 'w'write, 'a'append"
   ]
  },
  {
   "cell_type": "code",
   "execution_count": 1,
   "id": "de44eb6e",
   "metadata": {},
   "outputs": [],
   "source": [
    "#Delete \n",
    "# f.close()\n",
    "# import os\n",
    "# os.remove('D:/testFile1.txt')"
   ]
  },
  {
   "cell_type": "markdown",
   "id": "ef47e392",
   "metadata": {},
   "source": [
    "# Numpy - Used to perform mathematical and logical operations on Array "
   ]
  },
  {
   "cell_type": "code",
   "execution_count": 2,
   "id": "8b03600c",
   "metadata": {},
   "outputs": [
    {
     "name": "stdout",
     "output_type": "stream",
     "text": [
      "[1 2 3]\n",
      "[1 2 3]\n"
     ]
    }
   ],
   "source": [
    "#1D \n",
    "import numpy as np\n",
    "a1 = np.array([1,2,3])\n",
    "a2 = np.array((1,2,3))\n",
    "print(a1)\n",
    "print(a2)"
   ]
  },
  {
   "cell_type": "code",
   "execution_count": 3,
   "id": "6d3042af",
   "metadata": {},
   "outputs": [],
   "source": [
    "a2[1] = 4"
   ]
  },
  {
   "cell_type": "code",
   "execution_count": 4,
   "id": "eefdd697",
   "metadata": {},
   "outputs": [
    {
     "data": {
      "text/plain": [
       "array([1, 4, 3])"
      ]
     },
     "execution_count": 4,
     "metadata": {},
     "output_type": "execute_result"
    }
   ],
   "source": [
    "a2"
   ]
  },
  {
   "cell_type": "code",
   "execution_count": 6,
   "id": "cde70d86",
   "metadata": {},
   "outputs": [],
   "source": [
    "#2D Array\n",
    "a3 = np.array(((1,2,3),(4,5,6))) "
   ]
  },
  {
   "cell_type": "code",
   "execution_count": 7,
   "id": "f80f8645",
   "metadata": {},
   "outputs": [
    {
     "data": {
      "text/plain": [
       "array([[1, 2, 3],\n",
       "       [4, 5, 6]])"
      ]
     },
     "execution_count": 7,
     "metadata": {},
     "output_type": "execute_result"
    }
   ],
   "source": [
    "a3"
   ]
  },
  {
   "cell_type": "code",
   "execution_count": 8,
   "id": "b8004c74",
   "metadata": {},
   "outputs": [
    {
     "data": {
      "text/plain": [
       "array([4, 5, 6])"
      ]
     },
     "execution_count": 8,
     "metadata": {},
     "output_type": "execute_result"
    }
   ],
   "source": [
    "a3[1]"
   ]
  },
  {
   "cell_type": "code",
   "execution_count": 9,
   "id": "9efe000c",
   "metadata": {},
   "outputs": [
    {
     "data": {
      "text/plain": [
       "array([1, 2, 3])"
      ]
     },
     "execution_count": 9,
     "metadata": {},
     "output_type": "execute_result"
    }
   ],
   "source": [
    "a3[0]"
   ]
  },
  {
   "cell_type": "markdown",
   "id": "c6be4758",
   "metadata": {},
   "source": [
    "# ndarray"
   ]
  },
  {
   "cell_type": "code",
   "execution_count": 10,
   "id": "37305caa",
   "metadata": {},
   "outputs": [
    {
     "data": {
      "text/plain": [
       "array([], shape=(0, 3), dtype=int32)"
      ]
     },
     "execution_count": 10,
     "metadata": {},
     "output_type": "execute_result"
    }
   ],
   "source": [
    "a3[:0]"
   ]
  },
  {
   "cell_type": "code",
   "execution_count": 11,
   "id": "40202e23",
   "metadata": {},
   "outputs": [
    {
     "data": {
      "text/plain": [
       "array([[1, 2, 3],\n",
       "       [4, 5, 6]])"
      ]
     },
     "execution_count": 11,
     "metadata": {},
     "output_type": "execute_result"
    }
   ],
   "source": [
    "a3[0:]"
   ]
  },
  {
   "cell_type": "code",
   "execution_count": 12,
   "id": "1d22ffe2",
   "metadata": {},
   "outputs": [
    {
     "data": {
      "text/plain": [
       "array([[4, 5, 6]])"
      ]
     },
     "execution_count": 12,
     "metadata": {},
     "output_type": "execute_result"
    }
   ],
   "source": [
    "a3[1:]"
   ]
  },
  {
   "cell_type": "code",
   "execution_count": 13,
   "id": "88fe56c3",
   "metadata": {},
   "outputs": [
    {
     "data": {
      "text/plain": [
       "2"
      ]
     },
     "execution_count": 13,
     "metadata": {},
     "output_type": "execute_result"
    }
   ],
   "source": [
    "a1[1]"
   ]
  },
  {
   "cell_type": "code",
   "execution_count": 14,
   "id": "861612bc",
   "metadata": {},
   "outputs": [
    {
     "data": {
      "text/plain": [
       "array([2])"
      ]
     },
     "execution_count": 14,
     "metadata": {},
     "output_type": "execute_result"
    }
   ],
   "source": [
    "a1[1:2]"
   ]
  },
  {
   "cell_type": "code",
   "execution_count": 15,
   "id": "9ca7fd59",
   "metadata": {},
   "outputs": [
    {
     "data": {
      "text/plain": [
       "array([2, 3])"
      ]
     },
     "execution_count": 15,
     "metadata": {},
     "output_type": "execute_result"
    }
   ],
   "source": [
    "a1[1:3]"
   ]
  },
  {
   "cell_type": "code",
   "execution_count": 19,
   "id": "2dfacf2e",
   "metadata": {},
   "outputs": [
    {
     "data": {
      "text/plain": [
       "numpy.ndarray"
      ]
     },
     "execution_count": 19,
     "metadata": {},
     "output_type": "execute_result"
    }
   ],
   "source": [
    "type(a1)"
   ]
  },
  {
   "cell_type": "markdown",
   "id": "2b0b36ef",
   "metadata": {},
   "source": [
    "# Numpy Array Initilization"
   ]
  },
  {
   "cell_type": "code",
   "execution_count": 23,
   "id": "2c67e1f4",
   "metadata": {},
   "outputs": [
    {
     "data": {
      "text/plain": [
       "array([[0., 0., 0., 0.],\n",
       "       [0., 0., 0., 0.],\n",
       "       [0., 0., 0., 0.],\n",
       "       [0., 0., 0., 0.]])"
      ]
     },
     "execution_count": 23,
     "metadata": {},
     "output_type": "execute_result"
    }
   ],
   "source": [
    "a = np.zeros((4,4))\n",
    "a"
   ]
  },
  {
   "cell_type": "code",
   "execution_count": 29,
   "id": "93e5a801",
   "metadata": {},
   "outputs": [
    {
     "data": {
      "text/plain": [
       "array([10, 20, 30])"
      ]
     },
     "execution_count": 29,
     "metadata": {},
     "output_type": "execute_result"
    }
   ],
   "source": [
    "#Arrange\n",
    "x = np.arange(10,40,10)\n",
    "x"
   ]
  },
  {
   "cell_type": "code",
   "execution_count": 32,
   "id": "3e5bae0b",
   "metadata": {},
   "outputs": [
    {
     "data": {
      "text/plain": [
       "array([10. , 12.5, 15. , 17.5, 20. ])"
      ]
     },
     "execution_count": 32,
     "metadata": {},
     "output_type": "execute_result"
    }
   ],
   "source": [
    "#linspace\n",
    "x = np.linspace(10,20,5)\n",
    "x"
   ]
  },
  {
   "cell_type": "code",
   "execution_count": 35,
   "id": "f572b13e",
   "metadata": {},
   "outputs": [
    {
     "data": {
      "text/plain": [
       "array([[5, 5],\n",
       "       [5, 5]])"
      ]
     },
     "execution_count": 35,
     "metadata": {},
     "output_type": "execute_result"
    }
   ],
   "source": [
    "#fill same number in array\n",
    "z = np.full((2,2),5)\n",
    "z"
   ]
  },
  {
   "cell_type": "code",
   "execution_count": 37,
   "id": "c7b037dd",
   "metadata": {},
   "outputs": [
    {
     "data": {
      "text/plain": [
       "array([[0.67932733, 0.64345641],\n",
       "       [0.68293776, 0.3858604 ]])"
      ]
     },
     "execution_count": 37,
     "metadata": {},
     "output_type": "execute_result"
    }
   ],
   "source": [
    "#filling random number in array\n",
    "y = np.random.random((2,2))\n",
    "y"
   ]
  },
  {
   "cell_type": "markdown",
   "id": "7cea7bea",
   "metadata": {},
   "source": [
    "# Numpy Array Insecption"
   ]
  },
  {
   "cell_type": "code",
   "execution_count": 39,
   "id": "d325e8be",
   "metadata": {},
   "outputs": [
    {
     "data": {
      "text/plain": [
       "(2, 3)"
      ]
     },
     "execution_count": 39,
     "metadata": {},
     "output_type": "execute_result"
    }
   ],
   "source": [
    "#shape\n",
    "n = np.array(((1,23,4),(5,6,7)))\n",
    "n.shape"
   ]
  },
  {
   "cell_type": "code",
   "execution_count": 46,
   "id": "b4343fe5",
   "metadata": {},
   "outputs": [
    {
     "name": "stdout",
     "output_type": "stream",
     "text": [
      "3\n",
      "2\n"
     ]
    },
    {
     "data": {
      "text/plain": [
       "array([[ 1, 23],\n",
       "       [ 4,  5],\n",
       "       [ 6,  7]])"
      ]
     },
     "execution_count": 46,
     "metadata": {},
     "output_type": "execute_result"
    }
   ],
   "source": [
    "n.shape= (3,2)\n",
    "print(n.shape[0])\n",
    "print(n.ndim) # returns number of dimensions of array\n",
    "n"
   ]
  },
  {
   "cell_type": "code",
   "execution_count": 44,
   "id": "25ac9096",
   "metadata": {},
   "outputs": [
    {
     "name": "stdout",
     "output_type": "stream",
     "text": [
      "24\n"
     ]
    }
   ],
   "source": [
    "#range(number of points needed)\n",
    "y=np.arange(24)\n",
    "print(y.size)"
   ]
  },
  {
   "cell_type": "code",
   "execution_count": 45,
   "id": "46ff1488",
   "metadata": {},
   "outputs": [
    {
     "data": {
      "text/plain": [
       "array([ 0,  1,  2,  3,  4,  5,  6,  7,  8,  9, 10, 11, 12, 13, 14, 15, 16,\n",
       "       17, 18, 19, 20, 21, 22, 23])"
      ]
     },
     "execution_count": 45,
     "metadata": {},
     "output_type": "execute_result"
    }
   ],
   "source": [
    "y"
   ]
  },
  {
   "cell_type": "code",
   "execution_count": 47,
   "id": "b48242bd",
   "metadata": {},
   "outputs": [
    {
     "data": {
      "text/plain": [
       "dtype('int32')"
      ]
     },
     "execution_count": 47,
     "metadata": {},
     "output_type": "execute_result"
    }
   ],
   "source": [
    "#dtype\n",
    "y.dtype"
   ]
  },
  {
   "cell_type": "code",
   "execution_count": 48,
   "id": "3082a76f",
   "metadata": {},
   "outputs": [
    {
     "data": {
      "text/plain": [
       "dtype('float64')"
      ]
     },
     "execution_count": 48,
     "metadata": {},
     "output_type": "execute_result"
    }
   ],
   "source": [
    "b = np.linspace(11,12,13)\n",
    "b.dtype"
   ]
  },
  {
   "cell_type": "markdown",
   "id": "4709ebee",
   "metadata": {},
   "source": [
    "# Numpy Array Mathematics"
   ]
  },
  {
   "cell_type": "code",
   "execution_count": 4,
   "id": "649e699f",
   "metadata": {},
   "outputs": [
    {
     "data": {
      "text/plain": [
       "5"
      ]
     },
     "execution_count": 4,
     "metadata": {},
     "output_type": "execute_result"
    }
   ],
   "source": [
    "a = np.array([2,3])\n",
    "np.sum(a)"
   ]
  },
  {
   "cell_type": "code",
   "execution_count": 5,
   "id": "894a4693",
   "metadata": {},
   "outputs": [
    {
     "data": {
      "text/plain": [
       "array([0, 0])"
      ]
     },
     "execution_count": 5,
     "metadata": {},
     "output_type": "execute_result"
    }
   ],
   "source": [
    "b= [2,3]\n",
    "np.subtract(a,b)"
   ]
  },
  {
   "cell_type": "code",
   "execution_count": 8,
   "id": "ce002378",
   "metadata": {},
   "outputs": [
    {
     "data": {
      "text/plain": [
       "array([4, 6])"
      ]
     },
     "execution_count": 8,
     "metadata": {},
     "output_type": "execute_result"
    }
   ],
   "source": [
    "#Axis does addition in row and col. form '0' it adds col. wise and vice-versa\n",
    "np.sum([a,b], axis=0)"
   ]
  },
  {
   "cell_type": "code",
   "execution_count": 7,
   "id": "7bd67cd8",
   "metadata": {},
   "outputs": [
    {
     "data": {
      "text/plain": [
       "array([1., 1.])"
      ]
     },
     "execution_count": 7,
     "metadata": {},
     "output_type": "execute_result"
    }
   ],
   "source": [
    "np.divide(a,b)"
   ]
  },
  {
   "cell_type": "code",
   "execution_count": 8,
   "id": "87c652dc",
   "metadata": {},
   "outputs": [
    {
     "data": {
      "text/plain": [
       "array([4, 9])"
      ]
     },
     "execution_count": 8,
     "metadata": {},
     "output_type": "execute_result"
    }
   ],
   "source": [
    "np.multiply(a,b)"
   ]
  },
  {
   "cell_type": "code",
   "execution_count": 10,
   "id": "f78d76ea",
   "metadata": {},
   "outputs": [
    {
     "data": {
      "text/plain": [
       "(array([ 7.3890561 , 20.08553692]),)"
      ]
     },
     "execution_count": 10,
     "metadata": {},
     "output_type": "execute_result"
    }
   ],
   "source": [
    "np.exp(a),"
   ]
  },
  {
   "cell_type": "code",
   "execution_count": 11,
   "id": "368638b8",
   "metadata": {},
   "outputs": [
    {
     "data": {
      "text/plain": [
       "array([1.41421356, 1.73205081])"
      ]
     },
     "execution_count": 11,
     "metadata": {},
     "output_type": "execute_result"
    }
   ],
   "source": [
    "np.sqrt(a)"
   ]
  },
  {
   "cell_type": "code",
   "execution_count": 12,
   "id": "3f1c78e7",
   "metadata": {},
   "outputs": [
    {
     "data": {
      "text/plain": [
       "array([0.90929743, 0.14112001])"
      ]
     },
     "execution_count": 12,
     "metadata": {},
     "output_type": "execute_result"
    }
   ],
   "source": [
    "np.sin(a)"
   ]
  },
  {
   "cell_type": "code",
   "execution_count": 13,
   "id": "35309d79",
   "metadata": {},
   "outputs": [
    {
     "data": {
      "text/plain": [
       "array([-0.41614684, -0.9899925 ])"
      ]
     },
     "execution_count": 13,
     "metadata": {},
     "output_type": "execute_result"
    }
   ],
   "source": [
    "np.cos(a)"
   ]
  },
  {
   "cell_type": "code",
   "execution_count": 14,
   "id": "54fb5ed8",
   "metadata": {},
   "outputs": [
    {
     "data": {
      "text/plain": [
       "array([0.69314718, 1.09861229])"
      ]
     },
     "execution_count": 14,
     "metadata": {},
     "output_type": "execute_result"
    }
   ],
   "source": [
    " np.log(a)"
   ]
  },
  {
   "cell_type": "code",
   "execution_count": 15,
   "id": "101d2ca1",
   "metadata": {},
   "outputs": [
    {
     "data": {
      "text/plain": [
       "array([False, False, False])"
      ]
     },
     "execution_count": 15,
     "metadata": {},
     "output_type": "execute_result"
    }
   ],
   "source": [
    "#Array Comparsion-Element-wise\n",
    "a=[1,2,3]\n",
    "b=[4,5,6]\n",
    "c=[1,2,3]\n",
    "np.equal(a,b)"
   ]
  },
  {
   "cell_type": "code",
   "execution_count": 20,
   "id": "b714b244",
   "metadata": {},
   "outputs": [
    {
     "data": {
      "text/plain": [
       "array([ True,  True,  True])"
      ]
     },
     "execution_count": 20,
     "metadata": {},
     "output_type": "execute_result"
    }
   ],
   "source": [
    "np.equal(a,c)"
   ]
  },
  {
   "cell_type": "code",
   "execution_count": 17,
   "id": "4ae27a0b",
   "metadata": {},
   "outputs": [
    {
     "data": {
      "text/plain": [
       "False"
      ]
     },
     "execution_count": 17,
     "metadata": {},
     "output_type": "execute_result"
    }
   ],
   "source": [
    "#Array Comparsion-Array-wise\n",
    "a=[1,2,3]\n",
    "b=[4,5,6]\n",
    "c=[1,2,3]\n",
    "np.array_equal(a,b)"
   ]
  },
  {
   "cell_type": "code",
   "execution_count": 21,
   "id": "cc4deee7",
   "metadata": {},
   "outputs": [
    {
     "data": {
      "text/plain": [
       "True"
      ]
     },
     "execution_count": 21,
     "metadata": {},
     "output_type": "execute_result"
    }
   ],
   "source": [
    "np.array_equal(a,c)"
   ]
  },
  {
   "cell_type": "code",
   "execution_count": 25,
   "id": "a1e527ee",
   "metadata": {},
   "outputs": [
    {
     "name": "stdout",
     "output_type": "stream",
     "text": [
      "6\n",
      "1\n",
      "3\n",
      "2.0\n",
      "2.0\n",
      "1.0\n",
      "0.816496580927726\n"
     ]
    }
   ],
   "source": [
    "#Aggregate Function\n",
    "a=[1,2,3]\n",
    "b=[4,5,6]\n",
    "c=[1,2,3]\n",
    "print(np.sum(a))\n",
    "print(np.min(a))\n",
    "print(np.max(a))\n",
    "print(np.mean(a))\n",
    "print(np.median(a))\n",
    "print(np.corrcoef(a)) # correlation coefficient\n",
    "print(np.std(a) )#Standard deviation"
   ]
  },
  {
   "cell_type": "markdown",
   "id": "8d1843c4",
   "metadata": {},
   "source": [
    "# Numpy Broadcasting"
   ]
  },
  {
   "cell_type": "code",
   "execution_count": 36,
   "id": "f366995a",
   "metadata": {},
   "outputs": [
    {
     "name": "stdout",
     "output_type": "stream",
     "text": [
      "[[1 2 3]\n",
      " [3 6 4]\n",
      " [8 6 9]]\n",
      "[3 5 3]\n",
      "[[ 4  7  6]\n",
      " [ 6 11  7]\n",
      " [11 11 12]]\n"
     ]
    }
   ],
   "source": [
    "z = np.array([[1,2,3],[3,6,4],[8,6,9]])\n",
    "c = np.array([3,5,3])\n",
    "print(z)\n",
    "print(c)\n",
    "print(z+c)"
   ]
  },
  {
   "cell_type": "code",
   "execution_count": 37,
   "id": "4836f5d9",
   "metadata": {},
   "outputs": [
    {
     "name": "stdout",
     "output_type": "stream",
     "text": [
      "[[-2 -3  0]\n",
      " [ 0  1  1]\n",
      " [ 5  1  6]]\n"
     ]
    }
   ],
   "source": [
    "print(z-c)"
   ]
  },
  {
   "cell_type": "markdown",
   "id": "e3beafa4",
   "metadata": {},
   "source": [
    "# Numpy Indexing and Slicing"
   ]
  },
  {
   "cell_type": "code",
   "execution_count": 1,
   "id": "93776988",
   "metadata": {},
   "outputs": [],
   "source": [
    "#Indexing - for positive right is excluded ex.6to 10 only till 9 is taken,\n",
    "#           for negative higher to lower -7 to -12 for -8 is taken"
   ]
  },
  {
   "cell_type": "code",
   "execution_count": 8,
   "id": "ed5cac64",
   "metadata": {},
   "outputs": [
    {
     "name": "stdout",
     "output_type": "stream",
     "text": [
      "[1 2 3]\n",
      "[[1 2 3]]\n",
      "[[3 4 6]\n",
      " [9 7 6]]\n",
      "[[1]\n",
      " [3]\n",
      " [9]]\n"
     ]
    }
   ],
   "source": [
    "#silicing\n",
    "a = np.array([[1,2,3],[3,4,6],[9,7,6]])\n",
    "print(a[0])\n",
    "print(a[:1])\n",
    "print(a[1:])\n",
    "print(a[:,:1])"
   ]
  },
  {
   "cell_type": "code",
   "execution_count": 9,
   "id": "bb40c388",
   "metadata": {},
   "outputs": [
    {
     "name": "stdout",
     "output_type": "stream",
     "text": [
      "[[3]\n",
      " [6]]\n"
     ]
    }
   ],
   "source": [
    "print(a[:2,2:])"
   ]
  },
  {
   "cell_type": "markdown",
   "id": "2985e717",
   "metadata": {},
   "source": [
    "# Array Manipulation"
   ]
  },
  {
   "cell_type": "code",
   "execution_count": 5,
   "id": "9dd2e71c",
   "metadata": {},
   "outputs": [
    {
     "data": {
      "text/plain": [
       "array([1, 2, 3, 5, 6, 7])"
      ]
     },
     "execution_count": 5,
     "metadata": {},
     "output_type": "execute_result"
    }
   ],
   "source": [
    "#concatenate\n",
    "a = np.array([1,2,3])\n",
    "b = np.array([5,6,7])\n",
    "np.concatenate([a,b])"
   ]
  },
  {
   "cell_type": "code",
   "execution_count": 7,
   "id": "394a799e",
   "metadata": {},
   "outputs": [
    {
     "data": {
      "text/plain": [
       "array([[1, 2, 3, 5, 6, 7],\n",
       "       [2, 5, 3, 8, 4, 6]])"
      ]
     },
     "execution_count": 7,
     "metadata": {},
     "output_type": "execute_result"
    }
   ],
   "source": [
    "a = np.array([[1,2,3],[2,5,3]])\n",
    "b = np.array([[5,6,7],[8,4,6]])\n",
    "np.concatenate([a,b], axis=1)"
   ]
  },
  {
   "cell_type": "code",
   "execution_count": 10,
   "id": "43c8441f",
   "metadata": {},
   "outputs": [
    {
     "data": {
      "text/plain": [
       "array([[1, 2, 3],\n",
       "       [5, 6, 7]])"
      ]
     },
     "execution_count": 10,
     "metadata": {},
     "output_type": "execute_result"
    }
   ],
   "source": [
    "#stack\n",
    "np.stack((a,b),axis=0)"
   ]
  },
  {
   "cell_type": "code",
   "execution_count": 11,
   "id": "27c9412a",
   "metadata": {},
   "outputs": [
    {
     "data": {
      "text/plain": [
       "array([[1, 5],\n",
       "       [2, 6],\n",
       "       [3, 7]])"
      ]
     },
     "execution_count": 11,
     "metadata": {},
     "output_type": "execute_result"
    }
   ],
   "source": [
    "np.stack((a,b),axis=1)"
   ]
  },
  {
   "cell_type": "code",
   "execution_count": 4,
   "id": "5fa4ed26",
   "metadata": {},
   "outputs": [
    {
     "name": "stdout",
     "output_type": "stream",
     "text": [
      "[[[1 2 3]\n",
      "  [4 5 6]]\n",
      "\n",
      " [[2 3 4]\n",
      "  [5 6 7]]]\n",
      "Horizontal stack\n",
      "[[1 2 3 2 3 4]\n",
      " [4 5 6 5 6 7]]\n",
      "horizontal concat\n",
      "[[1 2 3]\n",
      " [4 5 6]\n",
      " [2 3 4]\n",
      " [5 6 7]]\n",
      "vertical stack\n",
      "[[1 2 3]\n",
      " [4 5 6]\n",
      " [2 3 4]\n",
      " [5 6 7]]\n",
      "Vertical concat\n",
      "[[1 2 3 2 3 4]\n",
      " [4 5 6 5 6 7]]\n",
      "column_stack\n",
      "[[1 2 3 2 3 4]\n",
      " [4 5 6 5 6 7]]\n"
     ]
    }
   ],
   "source": [
    "#stack arrays row-wise(vertically)-vstack\n",
    "#stack arrays column-wise(horizontally)-hstack\n",
    "#stack arrays column-stack\n",
    "a = np.array([[1,2,3],[4,5,6]])\n",
    "b =np.array([[2,3,4],[5,6,7]])\n",
    "print(np.stack((a,b),axis=0))\n",
    "print('Horizontal stack')\n",
    "print(np.hstack((a,b)))\n",
    "print('horizontal concat')\n",
    "print(np.concatenate((a,b),axis=0))\n",
    "print('vertical stack')\n",
    "print(np.vstack((a,b)))\n",
    "print('Vertical concat')\n",
    "print(np.concatenate((a,b),axis=1))\n",
    "print('column_stack')\n",
    "print(np.column_stack((a,b)))"
   ]
  },
  {
   "cell_type": "code",
   "execution_count": 6,
   "id": "88cf0a93",
   "metadata": {},
   "outputs": [],
   "source": [
    "#Spilting of Array\n",
    "#syntax-np.split(array,index,axis)\n",
    "#array- numpy array\n",
    "#index-int/list"
   ]
  },
  {
   "cell_type": "code",
   "execution_count": 10,
   "id": "09aefe9f",
   "metadata": {},
   "outputs": [
    {
     "name": "stdout",
     "output_type": "stream",
     "text": [
      "[[1 2 3]\n",
      " [4 5 6]]\n",
      "[array([[1, 2, 3]]), array([[4, 5, 6]])]\n",
      "[array([[1],\n",
      "       [4]]), array([[2],\n",
      "       [5]]), array([[3],\n",
      "       [6]])]\n"
     ]
    }
   ],
   "source": [
    "print(a)\n",
    "print(np.split(a,2,0))\n",
    "print(np.split(a,3,1))"
   ]
  },
  {
   "cell_type": "code",
   "execution_count": 11,
   "id": "5f0c934e",
   "metadata": {},
   "outputs": [
    {
     "name": "stdout",
     "output_type": "stream",
     "text": [
      "[array([[1, 2, 3]]), array([[4, 5, 6]]), array([], shape=(0, 3), dtype=int32)]\n"
     ]
    }
   ],
   "source": [
    "#row\n",
    "print(np.split(a,[1,2],0))"
   ]
  },
  {
   "cell_type": "code",
   "execution_count": 12,
   "id": "87b72976",
   "metadata": {},
   "outputs": [
    {
     "data": {
      "text/plain": [
       "array([[1, 2, 3]])"
      ]
     },
     "execution_count": 12,
     "metadata": {},
     "output_type": "execute_result"
    }
   ],
   "source": [
    "a[:1]"
   ]
  },
  {
   "cell_type": "code",
   "execution_count": 13,
   "id": "e0ad57d3",
   "metadata": {},
   "outputs": [
    {
     "data": {
      "text/plain": [
       "array([[4, 5, 6]])"
      ]
     },
     "execution_count": 13,
     "metadata": {},
     "output_type": "execute_result"
    }
   ],
   "source": [
    "a[1:2]"
   ]
  },
  {
   "cell_type": "code",
   "execution_count": 14,
   "id": "d0fac7ec",
   "metadata": {},
   "outputs": [
    {
     "data": {
      "text/plain": [
       "array([], shape=(0, 3), dtype=int32)"
      ]
     },
     "execution_count": 14,
     "metadata": {},
     "output_type": "execute_result"
    }
   ],
   "source": [
    "a[2:]"
   ]
  },
  {
   "cell_type": "code",
   "execution_count": 15,
   "id": "9af2c397",
   "metadata": {},
   "outputs": [
    {
     "name": "stdout",
     "output_type": "stream",
     "text": [
      "[array([[1],\n",
      "       [4]]), array([[2],\n",
      "       [5]]), array([[3],\n",
      "       [6]])]\n"
     ]
    }
   ],
   "source": [
    "#column\n",
    "print(np.split(a,[1,2],1))"
   ]
  },
  {
   "cell_type": "code",
   "execution_count": 17,
   "id": "e1d86d43",
   "metadata": {},
   "outputs": [
    {
     "data": {
      "text/plain": [
       "array([[1],\n",
       "       [4]])"
      ]
     },
     "execution_count": 17,
     "metadata": {},
     "output_type": "execute_result"
    }
   ],
   "source": [
    "a[:,:1]"
   ]
  },
  {
   "cell_type": "code",
   "execution_count": 18,
   "id": "691a10e8",
   "metadata": {},
   "outputs": [
    {
     "data": {
      "text/plain": [
       "array([[2],\n",
       "       [5]])"
      ]
     },
     "execution_count": 18,
     "metadata": {},
     "output_type": "execute_result"
    }
   ],
   "source": [
    "a[:,1:2]"
   ]
  },
  {
   "cell_type": "code",
   "execution_count": 19,
   "id": "c0e2673a",
   "metadata": {},
   "outputs": [
    {
     "data": {
      "text/plain": [
       "array([[3],\n",
       "       [6]])"
      ]
     },
     "execution_count": 19,
     "metadata": {},
     "output_type": "execute_result"
    }
   ],
   "source": [
    "a[:,2:]"
   ]
  },
  {
   "cell_type": "code",
   "execution_count": 9,
   "id": "bf1d3dbf",
   "metadata": {},
   "outputs": [
    {
     "name": "stdout",
     "output_type": "stream",
     "text": [
      " size of list: 28000\n",
      "size of array: 4\n"
     ]
    }
   ],
   "source": [
    "#Memory location  \n",
    "#Numpy vs list - memory size\n",
    "import numpy as np \n",
    "import sys\n",
    "\n",
    "#list\n",
    "l=range(1000)\n",
    "print(\" size of list:\", sys.getsizeof(1)*len(l))\n",
    "\n",
    "#np Array\n",
    "a = np.array(1000)\n",
    "print(\"size of array:\", a.size*a.itemsize)"
   ]
  },
  {
   "cell_type": "code",
   "execution_count": 13,
   "id": "3f98af52",
   "metadata": {},
   "outputs": [
    {
     "name": "stdout",
     "output_type": "stream",
     "text": [
      "4.857996225357056 0.06859517097473145\n",
      "this is the fastest time70.82125689498764\n"
     ]
    }
   ],
   "source": [
    "#numpy vs list- time\n",
    "import time\n",
    "def using_list():\n",
    "    t1 = time.time()#Starting/inital time\n",
    "    x =range(10000000)\n",
    "    y = range(10000000)\n",
    "    z= [x[i]+y[i] for i in range(len(x))]\n",
    "    return time.time()-t1\n",
    "\n",
    "def using_numpy():\n",
    "    t1 = time.time()\n",
    "    a =np.arange(10000000)\n",
    "    b = np.arange(10000000)\n",
    "    c= a+b#more convinent\n",
    "    return time.time()-t1\n",
    "list_time = using_list()\n",
    "numpy_time = using_numpy()\n",
    "print(list_time,numpy_time)\n",
    "print(\"this is the fastest time\"+str(list_time/numpy_time))"
   ]
  },
  {
   "cell_type": "markdown",
   "id": "bd63f53d",
   "metadata": {},
   "source": [
    "# PANDAS "
   ]
  },
  {
   "cell_type": "markdown",
   "id": "2f7f0704",
   "metadata": {},
   "source": [
    "#Used for data handling or data modeling / analysis/open source purpose\n",
    "#name dervied from - panel data\n",
    "#panel data - multi dimensional data involving measurments over time\n",
    "#created in 2015 by Wes Mckinney"
   ]
  },
  {
   "cell_type": "markdown",
   "id": "791bfc02",
   "metadata": {},
   "source": [
    "#features \n",
    "#1.Series OBject and dataframe - handles 1D,2D,multidemsional data - series object is for 1d data means numpy array- dataframe(2D) - tabular kind of the data,has some labels for rows\n",
    "#2.Handling missing Data\n",
    "#3.Data alignment- Access the data\n",
    "#4.Group by functionality\n",
    "#5.Silcing,Indexing,Subset \n",
    "#6.Merging and joinig\n",
    "#7.Reshaping\n",
    "#8.Heirarchical labeling of axes\n",
    "#9.Robust Input Ouput tool\n",
    "#10.time series-specific-functionality"
   ]
  },
  {
   "cell_type": "markdown",
   "id": "1e64bc27",
   "metadata": {},
   "source": [
    "#Difference np and pd\n",
    "#np-monogenous \n",
    "#pd hetero.."
   ]
  },
  {
   "cell_type": "markdown",
   "id": "8dfd1ff1",
   "metadata": {},
   "source": [
    "#what kind of data is suitable\n",
    "#Tabular data\n",
    "#Arbitary matrix\n",
    "#Time-series data"
   ]
  },
  {
   "cell_type": "markdown",
   "id": "d1053461",
   "metadata": {},
   "source": [
    "#Data-set in Pandas\n",
    "#1D- Series object\n",
    "#2D - Dataframe\n",
    "#3D - panel data"
   ]
  },
  {
   "cell_type": "code",
   "execution_count": null,
   "id": "1ed156e8",
   "metadata": {},
   "outputs": [],
   "source": []
  }
 ],
 "metadata": {
  "kernelspec": {
   "display_name": "Python 3 (ipykernel)",
   "language": "python",
   "name": "python3"
  },
  "language_info": {
   "codemirror_mode": {
    "name": "ipython",
    "version": 3
   },
   "file_extension": ".py",
   "mimetype": "text/x-python",
   "name": "python",
   "nbconvert_exporter": "python",
   "pygments_lexer": "ipython3",
   "version": "3.10.9"
  }
 },
 "nbformat": 4,
 "nbformat_minor": 5
}
